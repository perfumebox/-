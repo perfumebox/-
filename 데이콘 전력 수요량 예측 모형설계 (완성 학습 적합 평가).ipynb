{
 "cells": [
  {
   "cell_type": "code",
   "execution_count": 1,
   "id": "42e5d3aa",
   "metadata": {},
   "outputs": [],
   "source": [
    "# 전력 수요량 예측 경진대회"
   ]
  },
  {
   "cell_type": "code",
   "execution_count": 2,
   "id": "74aa1d2f",
   "metadata": {},
   "outputs": [],
   "source": [
    "#Library Imports\n",
    "import numpy as np\n",
    "import pandas as pd\n",
    "import math\n",
    "import os\n",
    "import matplotlib.pyplot as plt\n",
    "\n",
    "from sklearn.metrics import mean_absolute_error\n",
    "\n",
    "#######딥러닝 라이브러리##########\n",
    "import tensorflow as tf\n",
    "from tensorflow import keras\n",
    "from tensorflow.keras.models import Sequential\n",
    "from tensorflow.keras.layers import Dense, LSTM, Reshape, GRU, RNN\n",
    "\n",
    "tf.keras.backend.set_floatx('float64')"
   ]
  },
  {
   "cell_type": "code",
   "execution_count": 6,
   "id": "109a7d9e",
   "metadata": {},
   "outputs": [],
   "source": [
    "train=pd.read_csv('./dataset/train_ev.csv', encoding='cp949')\n",
    "test=pd.read_csv('./dataset/test_ev.csv', encoding='cp949')\n",
    "submission=pd.read_csv('./dataset/sample_submission_ev.csv', encoding='cp949')"
   ]
  },
  {
   "cell_type": "code",
   "execution_count": 7,
   "id": "f9d565d9",
   "metadata": {},
   "outputs": [
    {
     "data": {
      "text/html": [
       "<div>\n",
       "<style scoped>\n",
       "    .dataframe tbody tr th:only-of-type {\n",
       "        vertical-align: middle;\n",
       "    }\n",
       "\n",
       "    .dataframe tbody tr th {\n",
       "        vertical-align: top;\n",
       "    }\n",
       "\n",
       "    .dataframe thead th {\n",
       "        text-align: right;\n",
       "    }\n",
       "</style>\n",
       "<table border=\"1\" class=\"dataframe\">\n",
       "  <thead>\n",
       "    <tr style=\"text-align: right;\">\n",
       "      <th></th>\n",
       "      <th>num</th>\n",
       "      <th>date_time</th>\n",
       "      <th>전력사용량(kWh)</th>\n",
       "      <th>기온(°C)</th>\n",
       "      <th>풍속(m/s)</th>\n",
       "      <th>습도(%)</th>\n",
       "      <th>강수량(mm)</th>\n",
       "      <th>일조(hr)</th>\n",
       "      <th>비전기냉방설비운영</th>\n",
       "      <th>태양광보유</th>\n",
       "    </tr>\n",
       "  </thead>\n",
       "  <tbody>\n",
       "    <tr>\n",
       "      <th>0</th>\n",
       "      <td>1</td>\n",
       "      <td>2020-06-01 00</td>\n",
       "      <td>8179.056</td>\n",
       "      <td>17.6</td>\n",
       "      <td>2.5</td>\n",
       "      <td>92.0</td>\n",
       "      <td>0.8</td>\n",
       "      <td>0.0</td>\n",
       "      <td>0.0</td>\n",
       "      <td>0.0</td>\n",
       "    </tr>\n",
       "    <tr>\n",
       "      <th>1</th>\n",
       "      <td>1</td>\n",
       "      <td>2020-06-01 01</td>\n",
       "      <td>8135.640</td>\n",
       "      <td>17.7</td>\n",
       "      <td>2.9</td>\n",
       "      <td>91.0</td>\n",
       "      <td>0.3</td>\n",
       "      <td>0.0</td>\n",
       "      <td>0.0</td>\n",
       "      <td>0.0</td>\n",
       "    </tr>\n",
       "    <tr>\n",
       "      <th>2</th>\n",
       "      <td>1</td>\n",
       "      <td>2020-06-01 02</td>\n",
       "      <td>8107.128</td>\n",
       "      <td>17.5</td>\n",
       "      <td>3.2</td>\n",
       "      <td>91.0</td>\n",
       "      <td>0.0</td>\n",
       "      <td>0.0</td>\n",
       "      <td>0.0</td>\n",
       "      <td>0.0</td>\n",
       "    </tr>\n",
       "    <tr>\n",
       "      <th>3</th>\n",
       "      <td>1</td>\n",
       "      <td>2020-06-01 03</td>\n",
       "      <td>8048.808</td>\n",
       "      <td>17.1</td>\n",
       "      <td>3.2</td>\n",
       "      <td>91.0</td>\n",
       "      <td>0.0</td>\n",
       "      <td>0.0</td>\n",
       "      <td>0.0</td>\n",
       "      <td>0.0</td>\n",
       "    </tr>\n",
       "    <tr>\n",
       "      <th>4</th>\n",
       "      <td>1</td>\n",
       "      <td>2020-06-01 04</td>\n",
       "      <td>8043.624</td>\n",
       "      <td>17.0</td>\n",
       "      <td>3.3</td>\n",
       "      <td>92.0</td>\n",
       "      <td>0.0</td>\n",
       "      <td>0.0</td>\n",
       "      <td>0.0</td>\n",
       "      <td>0.0</td>\n",
       "    </tr>\n",
       "    <tr>\n",
       "      <th>...</th>\n",
       "      <td>...</td>\n",
       "      <td>...</td>\n",
       "      <td>...</td>\n",
       "      <td>...</td>\n",
       "      <td>...</td>\n",
       "      <td>...</td>\n",
       "      <td>...</td>\n",
       "      <td>...</td>\n",
       "      <td>...</td>\n",
       "      <td>...</td>\n",
       "    </tr>\n",
       "    <tr>\n",
       "      <th>122395</th>\n",
       "      <td>60</td>\n",
       "      <td>2020-08-24 19</td>\n",
       "      <td>4114.368</td>\n",
       "      <td>27.8</td>\n",
       "      <td>2.3</td>\n",
       "      <td>68.0</td>\n",
       "      <td>0.0</td>\n",
       "      <td>0.7</td>\n",
       "      <td>1.0</td>\n",
       "      <td>1.0</td>\n",
       "    </tr>\n",
       "    <tr>\n",
       "      <th>122396</th>\n",
       "      <td>60</td>\n",
       "      <td>2020-08-24 20</td>\n",
       "      <td>3975.696</td>\n",
       "      <td>27.3</td>\n",
       "      <td>1.2</td>\n",
       "      <td>71.0</td>\n",
       "      <td>0.0</td>\n",
       "      <td>0.0</td>\n",
       "      <td>1.0</td>\n",
       "      <td>1.0</td>\n",
       "    </tr>\n",
       "    <tr>\n",
       "      <th>122397</th>\n",
       "      <td>60</td>\n",
       "      <td>2020-08-24 21</td>\n",
       "      <td>3572.208</td>\n",
       "      <td>27.3</td>\n",
       "      <td>1.8</td>\n",
       "      <td>71.0</td>\n",
       "      <td>0.0</td>\n",
       "      <td>0.0</td>\n",
       "      <td>1.0</td>\n",
       "      <td>1.0</td>\n",
       "    </tr>\n",
       "    <tr>\n",
       "      <th>122398</th>\n",
       "      <td>60</td>\n",
       "      <td>2020-08-24 22</td>\n",
       "      <td>3299.184</td>\n",
       "      <td>27.1</td>\n",
       "      <td>1.8</td>\n",
       "      <td>74.0</td>\n",
       "      <td>0.0</td>\n",
       "      <td>0.0</td>\n",
       "      <td>1.0</td>\n",
       "      <td>1.0</td>\n",
       "    </tr>\n",
       "    <tr>\n",
       "      <th>122399</th>\n",
       "      <td>60</td>\n",
       "      <td>2020-08-24 23</td>\n",
       "      <td>3204.576</td>\n",
       "      <td>27.1</td>\n",
       "      <td>2.6</td>\n",
       "      <td>75.0</td>\n",
       "      <td>0.0</td>\n",
       "      <td>0.0</td>\n",
       "      <td>1.0</td>\n",
       "      <td>1.0</td>\n",
       "    </tr>\n",
       "  </tbody>\n",
       "</table>\n",
       "<p>122400 rows × 10 columns</p>\n",
       "</div>"
      ],
      "text/plain": [
       "        num      date_time  전력사용량(kWh)  기온(°C)  풍속(m/s)  습도(%)  강수량(mm)  \\\n",
       "0         1  2020-06-01 00    8179.056    17.6      2.5   92.0      0.8   \n",
       "1         1  2020-06-01 01    8135.640    17.7      2.9   91.0      0.3   \n",
       "2         1  2020-06-01 02    8107.128    17.5      3.2   91.0      0.0   \n",
       "3         1  2020-06-01 03    8048.808    17.1      3.2   91.0      0.0   \n",
       "4         1  2020-06-01 04    8043.624    17.0      3.3   92.0      0.0   \n",
       "...     ...            ...         ...     ...      ...    ...      ...   \n",
       "122395   60  2020-08-24 19    4114.368    27.8      2.3   68.0      0.0   \n",
       "122396   60  2020-08-24 20    3975.696    27.3      1.2   71.0      0.0   \n",
       "122397   60  2020-08-24 21    3572.208    27.3      1.8   71.0      0.0   \n",
       "122398   60  2020-08-24 22    3299.184    27.1      1.8   74.0      0.0   \n",
       "122399   60  2020-08-24 23    3204.576    27.1      2.6   75.0      0.0   \n",
       "\n",
       "        일조(hr)  비전기냉방설비운영  태양광보유  \n",
       "0          0.0        0.0    0.0  \n",
       "1          0.0        0.0    0.0  \n",
       "2          0.0        0.0    0.0  \n",
       "3          0.0        0.0    0.0  \n",
       "4          0.0        0.0    0.0  \n",
       "...        ...        ...    ...  \n",
       "122395     0.7        1.0    1.0  \n",
       "122396     0.0        1.0    1.0  \n",
       "122397     0.0        1.0    1.0  \n",
       "122398     0.0        1.0    1.0  \n",
       "122399     0.0        1.0    1.0  \n",
       "\n",
       "[122400 rows x 10 columns]"
      ]
     },
     "execution_count": 7,
     "metadata": {},
     "output_type": "execute_result"
    }
   ],
   "source": [
    "#train.shape 122400 X 10\n",
    "#60개의 건물 X 85일 24시간 =122400\n",
    "train"
   ]
  },
  {
   "cell_type": "code",
   "execution_count": 8,
   "id": "01d9cd0d",
   "metadata": {},
   "outputs": [
    {
     "data": {
      "text/html": [
       "<div>\n",
       "<style scoped>\n",
       "    .dataframe tbody tr th:only-of-type {\n",
       "        vertical-align: middle;\n",
       "    }\n",
       "\n",
       "    .dataframe tbody tr th {\n",
       "        vertical-align: top;\n",
       "    }\n",
       "\n",
       "    .dataframe thead th {\n",
       "        text-align: right;\n",
       "    }\n",
       "</style>\n",
       "<table border=\"1\" class=\"dataframe\">\n",
       "  <thead>\n",
       "    <tr style=\"text-align: right;\">\n",
       "      <th></th>\n",
       "      <th>num</th>\n",
       "      <th>date_time</th>\n",
       "      <th>기온(°C)</th>\n",
       "      <th>풍속(m/s)</th>\n",
       "      <th>습도(%)</th>\n",
       "      <th>강수량(mm, 6시간)</th>\n",
       "      <th>일조(hr, 3시간)</th>\n",
       "      <th>비전기냉방설비운영</th>\n",
       "      <th>태양광보유</th>\n",
       "    </tr>\n",
       "  </thead>\n",
       "  <tbody>\n",
       "    <tr>\n",
       "      <th>0</th>\n",
       "      <td>1</td>\n",
       "      <td>2020-08-25 00</td>\n",
       "      <td>27.8</td>\n",
       "      <td>1.5</td>\n",
       "      <td>74.0</td>\n",
       "      <td>0.0</td>\n",
       "      <td>0.0</td>\n",
       "      <td>NaN</td>\n",
       "      <td>NaN</td>\n",
       "    </tr>\n",
       "    <tr>\n",
       "      <th>1</th>\n",
       "      <td>1</td>\n",
       "      <td>2020-08-25 01</td>\n",
       "      <td>NaN</td>\n",
       "      <td>NaN</td>\n",
       "      <td>NaN</td>\n",
       "      <td>NaN</td>\n",
       "      <td>NaN</td>\n",
       "      <td>NaN</td>\n",
       "      <td>NaN</td>\n",
       "    </tr>\n",
       "    <tr>\n",
       "      <th>2</th>\n",
       "      <td>1</td>\n",
       "      <td>2020-08-25 02</td>\n",
       "      <td>NaN</td>\n",
       "      <td>NaN</td>\n",
       "      <td>NaN</td>\n",
       "      <td>NaN</td>\n",
       "      <td>NaN</td>\n",
       "      <td>NaN</td>\n",
       "      <td>NaN</td>\n",
       "    </tr>\n",
       "    <tr>\n",
       "      <th>3</th>\n",
       "      <td>1</td>\n",
       "      <td>2020-08-25 03</td>\n",
       "      <td>27.3</td>\n",
       "      <td>1.1</td>\n",
       "      <td>78.0</td>\n",
       "      <td>NaN</td>\n",
       "      <td>0.0</td>\n",
       "      <td>NaN</td>\n",
       "      <td>NaN</td>\n",
       "    </tr>\n",
       "    <tr>\n",
       "      <th>4</th>\n",
       "      <td>1</td>\n",
       "      <td>2020-08-25 04</td>\n",
       "      <td>NaN</td>\n",
       "      <td>NaN</td>\n",
       "      <td>NaN</td>\n",
       "      <td>NaN</td>\n",
       "      <td>NaN</td>\n",
       "      <td>NaN</td>\n",
       "      <td>NaN</td>\n",
       "    </tr>\n",
       "    <tr>\n",
       "      <th>...</th>\n",
       "      <td>...</td>\n",
       "      <td>...</td>\n",
       "      <td>...</td>\n",
       "      <td>...</td>\n",
       "      <td>...</td>\n",
       "      <td>...</td>\n",
       "      <td>...</td>\n",
       "      <td>...</td>\n",
       "      <td>...</td>\n",
       "    </tr>\n",
       "    <tr>\n",
       "      <th>10075</th>\n",
       "      <td>60</td>\n",
       "      <td>2020-08-31 19</td>\n",
       "      <td>NaN</td>\n",
       "      <td>NaN</td>\n",
       "      <td>NaN</td>\n",
       "      <td>NaN</td>\n",
       "      <td>NaN</td>\n",
       "      <td>NaN</td>\n",
       "      <td>NaN</td>\n",
       "    </tr>\n",
       "    <tr>\n",
       "      <th>10076</th>\n",
       "      <td>60</td>\n",
       "      <td>2020-08-31 20</td>\n",
       "      <td>NaN</td>\n",
       "      <td>NaN</td>\n",
       "      <td>NaN</td>\n",
       "      <td>NaN</td>\n",
       "      <td>NaN</td>\n",
       "      <td>NaN</td>\n",
       "      <td>NaN</td>\n",
       "    </tr>\n",
       "    <tr>\n",
       "      <th>10077</th>\n",
       "      <td>60</td>\n",
       "      <td>2020-08-31 21</td>\n",
       "      <td>27.9</td>\n",
       "      <td>4.1</td>\n",
       "      <td>68.0</td>\n",
       "      <td>NaN</td>\n",
       "      <td>0.0</td>\n",
       "      <td>1.0</td>\n",
       "      <td>1.0</td>\n",
       "    </tr>\n",
       "    <tr>\n",
       "      <th>10078</th>\n",
       "      <td>60</td>\n",
       "      <td>2020-08-31 22</td>\n",
       "      <td>NaN</td>\n",
       "      <td>NaN</td>\n",
       "      <td>NaN</td>\n",
       "      <td>NaN</td>\n",
       "      <td>NaN</td>\n",
       "      <td>NaN</td>\n",
       "      <td>NaN</td>\n",
       "    </tr>\n",
       "    <tr>\n",
       "      <th>10079</th>\n",
       "      <td>60</td>\n",
       "      <td>2020-08-31 23</td>\n",
       "      <td>NaN</td>\n",
       "      <td>NaN</td>\n",
       "      <td>NaN</td>\n",
       "      <td>NaN</td>\n",
       "      <td>NaN</td>\n",
       "      <td>NaN</td>\n",
       "      <td>NaN</td>\n",
       "    </tr>\n",
       "  </tbody>\n",
       "</table>\n",
       "<p>10080 rows × 9 columns</p>\n",
       "</div>"
      ],
      "text/plain": [
       "       num      date_time  기온(°C)  풍속(m/s)  습도(%)  강수량(mm, 6시간)  일조(hr, 3시간)  \\\n",
       "0        1  2020-08-25 00    27.8      1.5   74.0           0.0          0.0   \n",
       "1        1  2020-08-25 01     NaN      NaN    NaN           NaN          NaN   \n",
       "2        1  2020-08-25 02     NaN      NaN    NaN           NaN          NaN   \n",
       "3        1  2020-08-25 03    27.3      1.1   78.0           NaN          0.0   \n",
       "4        1  2020-08-25 04     NaN      NaN    NaN           NaN          NaN   \n",
       "...    ...            ...     ...      ...    ...           ...          ...   \n",
       "10075   60  2020-08-31 19     NaN      NaN    NaN           NaN          NaN   \n",
       "10076   60  2020-08-31 20     NaN      NaN    NaN           NaN          NaN   \n",
       "10077   60  2020-08-31 21    27.9      4.1   68.0           NaN          0.0   \n",
       "10078   60  2020-08-31 22     NaN      NaN    NaN           NaN          NaN   \n",
       "10079   60  2020-08-31 23     NaN      NaN    NaN           NaN          NaN   \n",
       "\n",
       "       비전기냉방설비운영  태양광보유  \n",
       "0            NaN    NaN  \n",
       "1            NaN    NaN  \n",
       "2            NaN    NaN  \n",
       "3            NaN    NaN  \n",
       "4            NaN    NaN  \n",
       "...          ...    ...  \n",
       "10075        NaN    NaN  \n",
       "10076        NaN    NaN  \n",
       "10077        1.0    1.0  \n",
       "10078        NaN    NaN  \n",
       "10079        NaN    NaN  \n",
       "\n",
       "[10080 rows x 9 columns]"
      ]
     },
     "execution_count": 8,
     "metadata": {},
     "output_type": "execute_result"
    }
   ],
   "source": [
    "#test.shape 10080 X 9\n",
    "#60개의 건물 X 7일 24시간 =10080\n",
    "test"
   ]
  },
  {
   "cell_type": "markdown",
   "id": "eb39660f",
   "metadata": {},
   "source": [
    "# 딥러닝 모델(전력사용량만 변수로 사용)"
   ]
  },
  {
   "cell_type": "code",
   "execution_count": 9,
   "id": "03047f5e",
   "metadata": {},
   "outputs": [],
   "source": [
    "##############전력사용량(kWh) 정규화####################################\n",
    "\n",
    "mini=train.iloc[:,2].min()\n",
    "size=train.iloc[:,2].max()-train.iloc[:,2].min()\n",
    "train.iloc[:,2]=(train.iloc[:,2]-mini)/size"
   ]
  },
  {
   "cell_type": "code",
   "execution_count": 13,
   "id": "89da3fe2",
   "metadata": {},
   "outputs": [],
   "source": [
    "####################################################\n",
    "\n",
    "input_window =996 #임의의 수\n",
    "output_window = 24 #168 7일 24시간\n",
    "window = 12 #window는 12시간 마다는 12시간 마다\n",
    "num_features = 1 #베이스라인은 feature를 하나만 사용했습니다.\n",
    "num_power = 60\n",
    "end_=168\n",
    "lstm_units=32\n",
    "dropout=0.2\n",
    "EPOCH=30\n",
    "BATCH_SIZE=128"
   ]
  },
  {
   "cell_type": "code",
   "execution_count": 14,
   "id": "5e254cde",
   "metadata": {},
   "outputs": [
    {
     "name": "stdout",
     "output_type": "stream",
     "text": [
      "train_x.shape:(60, 2040, 1)\n"
     ]
    }
   ],
   "source": [
    "#train을 tensor로 변경 (60, 24*85, 1)\n",
    "train_x=tf.reshape(train.iloc[:,2].values, [num_power, 24*85, num_features])\n",
    "print(f'train_x.shape:{train_x.shape}')"
   ]
  },
  {
   "cell_type": "code",
   "execution_count": 16,
   "id": "ae96de9c",
   "metadata": {},
   "outputs": [],
   "source": [
    "#train_x"
   ]
  },
  {
   "cell_type": "code",
   "execution_count": 17,
   "id": "f2e5edab",
   "metadata": {},
   "outputs": [
    {
     "name": "stdout",
     "output_type": "stream",
     "text": [
      "train_window_x.shape:(60, 85, 996, 1)\n",
      "train_window_y.shape:(60, 85, 24, 1)\n"
     ]
    }
   ],
   "source": [
    "#train_window_x np.zeros를 만듬 (60, 85, 996, 1)\n",
    "train_window_x= np.zeros(( train_x.shape[0], (train_x.shape[1]-(input_window + output_window))//window, input_window, num_features)) \n",
    "train_window_y= np.zeros(( train_x.shape[0], (train_x.shape[1]-(input_window + output_window))//window, output_window, num_features))\n",
    "print(f'train_window_x.shape:{train_window_x.shape}')\n",
    "print(f'train_window_y.shape:{train_window_y.shape}')"
   ]
  },
  {
   "cell_type": "code",
   "execution_count": 20,
   "id": "fa4fe00f",
   "metadata": {},
   "outputs": [],
   "source": [
    "#train_window_x에 train값 채워넣기\n",
    "for example in range(train_x.shape[0]):\n",
    "    \n",
    "    for start in range(0, train_x.shape[1]-(input_window+output_window), window):\n",
    "        end=start+input_window\n",
    "        train_window_x[example, start//window, :] = train_x[example, start: end               , :]\n",
    "        train_window_y[example, start//window, :] = train_x[example, end  : end+ output_window, :]"
   ]
  },
  {
   "cell_type": "code",
   "execution_count": 21,
   "id": "f97ca32a",
   "metadata": {},
   "outputs": [
    {
     "name": "stdout",
     "output_type": "stream",
     "text": [
      "new_train_x.shape:(5100, 996, 1)\n",
      "new_train_y.shape:(5100, 24, 1)\n"
     ]
    }
   ],
   "source": [
    "#new_train_x, reshape통해 lstm에 알맞은 형태로 집어넣기\n",
    "new_train_x=tf.reshape(train_window_x, [-1, input_window, num_features])\n",
    "new_train_y=tf.reshape(train_window_y, [-1, output_window,num_features])\n",
    "print(f'new_train_x.shape:{new_train_x.shape}')\n",
    "print(f'new_train_y.shape:{new_train_y.shape}')"
   ]
  },
  {
   "cell_type": "code",
   "execution_count": 22,
   "id": "8d56b671",
   "metadata": {},
   "outputs": [],
   "source": [
    "#####층 쌓기###########\n",
    "\n",
    "# return_sequences 가 의미하는바는 ?? \n",
    "model=Sequential([\n",
    "LSTM(lstm_units, return_sequences=False, recurrent_dropout=dropout),\n",
    "Dense(output_window * num_features, kernel_initializer=tf.initializers.zeros()), \n",
    "Reshape([output_window, num_features])\n",
    "])"
   ]
  },
  {
   "cell_type": "markdown",
   "id": "78151bfd",
   "metadata": {},
   "source": [
    "##층쌓기에서 return_sequences= True로 한다면?"
   ]
  },
  {
   "cell_type": "code",
   "execution_count": 23,
   "id": "44ca78ce",
   "metadata": {},
   "outputs": [],
   "source": [
    "#######Compile 구성하기################\n",
    "\n",
    "\n",
    "model.compile(optimizer='rmsprop', loss='mae', metrics=['mae'])\n",
    "# 에포크가 끝날 때마다 점(.)을 출력해 훈련 진행 과정을 표시합니다\n",
    "class PrintDot(tf.keras.callbacks.Callback):\n",
    "    def on_epoch_end(self, epoch, logs):\n",
    "        if epoch % 10 == 0: print('')\n",
    "        print('.', end='')\n",
    "\n",
    "#가장 좋은 성능을 낸 val_loss가 적은 model만 남겨 놓았습니다.\n",
    "save_best_only=tf.keras.callbacks.ModelCheckpoint(filepath=\"lstm_model.h5\", monitor='val_loss', save_best_only=True)\n",
    "\n",
    "\n",
    "early_stop = tf.keras.callbacks.EarlyStopping(monitor='val_loss', patience=20)\n",
    "\n",
    "#검증 손실이 10epoch 동안 좋아지지 않으면 학습률을 0.1 배로 재구성하는 명령어입니다.\n",
    "reduceLR = tf.keras.callbacks.ReduceLROnPlateau(monitor='val_loss', factor=0.1, patience=10)"
   ]
  },
  {
   "cell_type": "code",
   "execution_count": 24,
   "id": "c5620f8d",
   "metadata": {},
   "outputs": [
    {
     "name": "stdout",
     "output_type": "stream",
     "text": [
      "\n",
      "..........\n",
      "..........\n",
      "..........Model: \"sequential\"\n",
      "_________________________________________________________________\n",
      " Layer (type)                Output Shape              Param #   \n",
      "=================================================================\n",
      " lstm (LSTM)                 (None, 32)                4352      \n",
      "                                                                 \n",
      " dense (Dense)               (None, 24)                792       \n",
      "                                                                 \n",
      " reshape (Reshape)           (None, 24, 1)             0         \n",
      "                                                                 \n",
      "=================================================================\n",
      "Total params: 5,144\n",
      "Trainable params: 5,144\n",
      "Non-trainable params: 0\n",
      "_________________________________________________________________\n"
     ]
    }
   ],
   "source": [
    "######################\n",
    "model.fit(new_train_x, new_train_y, epochs=EPOCH, batch_size=BATCH_SIZE, validation_split = 0.2, verbose=0,\n",
    "          callbacks=[PrintDot(), early_stop, save_best_only , reduceLR])\n",
    "\n",
    "model.summary()"
   ]
  },
  {
   "cell_type": "code",
   "execution_count": 42,
   "id": "83176d3c",
   "metadata": {},
   "outputs": [],
   "source": [
    "###################### 적합시켜줌 \n",
    "#e= model.fit(new_train_x, new_train_y, epochs=EPOCH, batch_size=BATCH_SIZE, validation_split = 0.2, verbose=0,\n",
    "#          callbacks=[PrintDot(), early_stop, save_best_only , reduceLR])\n",
    "\n",
    "#model.summary()"
   ]
  },
  {
   "cell_type": "code",
   "execution_count": 41,
   "id": "757f3c38",
   "metadata": {},
   "outputs": [
    {
     "data": {
      "text/plain": [
       "<keras.callbacks.History at 0x18ba8333400>"
      ]
     },
     "execution_count": 41,
     "metadata": {},
     "output_type": "execute_result"
    }
   ],
   "source": [
    "e # 적합되었음"
   ]
  },
  {
   "cell_type": "code",
   "execution_count": 25,
   "id": "9fcfc184",
   "metadata": {},
   "outputs": [
    {
     "name": "stdout",
     "output_type": "stream",
     "text": [
      "2/2 [==============================] - 0s 46ms/step\n",
      "(60, 2064, 1)\n",
      "2/2 [==============================] - 0s 42ms/step\n",
      "(60, 2088, 1)\n",
      "2/2 [==============================] - 0s 44ms/step\n",
      "(60, 2112, 1)\n",
      "2/2 [==============================] - 0s 42ms/step\n",
      "(60, 2136, 1)\n",
      "2/2 [==============================] - 0s 40ms/step\n",
      "(60, 2160, 1)\n",
      "2/2 [==============================] - 0s 51ms/step\n",
      "(60, 2184, 1)\n",
      "2/2 [==============================] - 0s 44ms/step\n",
      "(60, 2208, 1)\n"
     ]
    }
   ],
   "source": [
    "####################### 예측하기 \n",
    "prediction=np.zeros((num_power, end_, num_features))\n",
    "new_test_x=train_x\n",
    "\n",
    "for i in range(end_//output_window):\n",
    "    start_=i*output_window\n",
    "    next_=model.predict(new_test_x[ : , -input_window:, :])\n",
    "    new_test_x = tf.concat([new_test_x, next_], axis=1)\n",
    "    print(new_test_x.shape)\n",
    "    prediction[:, start_: start_ + output_window, :]= next_\n",
    "prediction =prediction *size + mini"
   ]
  },
  {
   "cell_type": "code",
   "execution_count": 26,
   "id": "d7e3624c",
   "metadata": {},
   "outputs": [
    {
     "data": {
      "text/html": [
       "<div>\n",
       "<style scoped>\n",
       "    .dataframe tbody tr th:only-of-type {\n",
       "        vertical-align: middle;\n",
       "    }\n",
       "\n",
       "    .dataframe tbody tr th {\n",
       "        vertical-align: top;\n",
       "    }\n",
       "\n",
       "    .dataframe thead th {\n",
       "        text-align: right;\n",
       "    }\n",
       "</style>\n",
       "<table border=\"1\" class=\"dataframe\">\n",
       "  <thead>\n",
       "    <tr style=\"text-align: right;\">\n",
       "      <th></th>\n",
       "      <th>num_date_time</th>\n",
       "      <th>answer</th>\n",
       "    </tr>\n",
       "  </thead>\n",
       "  <tbody>\n",
       "    <tr>\n",
       "      <th>0</th>\n",
       "      <td>1 2020-08-25 00</td>\n",
       "      <td>8418.448622</td>\n",
       "    </tr>\n",
       "    <tr>\n",
       "      <th>1</th>\n",
       "      <td>1 2020-08-25 01</td>\n",
       "      <td>8457.131369</td>\n",
       "    </tr>\n",
       "    <tr>\n",
       "      <th>2</th>\n",
       "      <td>1 2020-08-25 02</td>\n",
       "      <td>8482.269398</td>\n",
       "    </tr>\n",
       "    <tr>\n",
       "      <th>3</th>\n",
       "      <td>1 2020-08-25 03</td>\n",
       "      <td>8444.838390</td>\n",
       "    </tr>\n",
       "    <tr>\n",
       "      <th>4</th>\n",
       "      <td>1 2020-08-25 04</td>\n",
       "      <td>8396.408870</td>\n",
       "    </tr>\n",
       "    <tr>\n",
       "      <th>...</th>\n",
       "      <td>...</td>\n",
       "      <td>...</td>\n",
       "    </tr>\n",
       "    <tr>\n",
       "      <th>10075</th>\n",
       "      <td>60 2020-08-31 19</td>\n",
       "      <td>3099.935036</td>\n",
       "    </tr>\n",
       "    <tr>\n",
       "      <th>10076</th>\n",
       "      <td>60 2020-08-31 20</td>\n",
       "      <td>2985.845285</td>\n",
       "    </tr>\n",
       "    <tr>\n",
       "      <th>10077</th>\n",
       "      <td>60 2020-08-31 21</td>\n",
       "      <td>2801.516218</td>\n",
       "    </tr>\n",
       "    <tr>\n",
       "      <th>10078</th>\n",
       "      <td>60 2020-08-31 22</td>\n",
       "      <td>2738.554138</td>\n",
       "    </tr>\n",
       "    <tr>\n",
       "      <th>10079</th>\n",
       "      <td>60 2020-08-31 23</td>\n",
       "      <td>2728.530067</td>\n",
       "    </tr>\n",
       "  </tbody>\n",
       "</table>\n",
       "<p>10080 rows × 2 columns</p>\n",
       "</div>"
      ],
      "text/plain": [
       "          num_date_time       answer\n",
       "0       1 2020-08-25 00  8418.448622\n",
       "1       1 2020-08-25 01  8457.131369\n",
       "2       1 2020-08-25 02  8482.269398\n",
       "3       1 2020-08-25 03  8444.838390\n",
       "4       1 2020-08-25 04  8396.408870\n",
       "...                 ...          ...\n",
       "10075  60 2020-08-31 19  3099.935036\n",
       "10076  60 2020-08-31 20  2985.845285\n",
       "10077  60 2020-08-31 21  2801.516218\n",
       "10078  60 2020-08-31 22  2738.554138\n",
       "10079  60 2020-08-31 23  2728.530067\n",
       "\n",
       "[10080 rows x 2 columns]"
      ]
     },
     "execution_count": 26,
     "metadata": {},
     "output_type": "execute_result"
    }
   ],
   "source": [
    "# 예측 결과 만들기 \n",
    "submission['answer']=prediction.reshape([-1,1])\n",
    "submission"
   ]
  },
  {
   "cell_type": "code",
   "execution_count": 27,
   "id": "fc9190a5",
   "metadata": {},
   "outputs": [],
   "source": [
    "# 예측 결과를 토대로 파일 구성\n",
    "\n",
    "submission.to_csv('baseline_submission1.csv', index=False)"
   ]
  },
  {
   "cell_type": "code",
   "execution_count": null,
   "id": "5e58329a",
   "metadata": {},
   "outputs": [],
   "source": []
  },
  {
   "cell_type": "code",
   "execution_count": null,
   "id": "18bfbe30",
   "metadata": {},
   "outputs": [],
   "source": []
  },
  {
   "cell_type": "code",
   "execution_count": null,
   "id": "3d0b054b",
   "metadata": {},
   "outputs": [],
   "source": []
  },
  {
   "cell_type": "code",
   "execution_count": null,
   "id": "ff44639a",
   "metadata": {},
   "outputs": [],
   "source": []
  },
  {
   "cell_type": "markdown",
   "id": "26e36f46",
   "metadata": {},
   "source": [
    "# 앞전 LSTM Stance Swing (12월초) 모형 예시에서는 \n",
    "\n",
    "# <keras.callbacks.History at 0x217f55f6490> 파일 model.history['loss'] 가\n",
    "\n",
    "# 가능했는데 현재 시퀀셜로 모델이 생성되어 loss그래프를 그릴수없음.\n",
    "\n",
    "# 해결함 >> Model 할당의 문제"
   ]
  },
  {
   "cell_type": "code",
   "execution_count": 33,
   "id": "cd4da0bd",
   "metadata": {},
   "outputs": [
    {
     "data": {
      "text/plain": [
       "<keras.engine.sequential.Sequential at 0x18ba8341160>"
      ]
     },
     "execution_count": 33,
     "metadata": {},
     "output_type": "execute_result"
    }
   ],
   "source": [
    "model"
   ]
  },
  {
   "cell_type": "code",
   "execution_count": 43,
   "id": "a0c7934c",
   "metadata": {},
   "outputs": [
    {
     "data": {
      "text/plain": [
       "<keras.callbacks.History at 0x18ba8333400>"
      ]
     },
     "execution_count": 43,
     "metadata": {},
     "output_type": "execute_result"
    }
   ],
   "source": [
    "e"
   ]
  },
  {
   "cell_type": "code",
   "execution_count": 38,
   "id": "3f35db4c",
   "metadata": {},
   "outputs": [],
   "source": [
    "# model.sequential['loss'] \n",
    "# loss = MAE"
   ]
  },
  {
   "cell_type": "code",
   "execution_count": 44,
   "id": "6953a594",
   "metadata": {},
   "outputs": [
    {
     "data": {
      "image/png": "[encoded data removed]",
      "text/plain": [
       "<Figure size 432x288 with 1 Axes>"
      ]
     },
     "metadata": {
      "needs_background": "light"
     },
     "output_type": "display_data"
    }
   ],
   "source": [
    "# x_len = numpy.arange(len(y_loss))\n",
    "x_len = list(range(len(e.history['loss'])))\n",
    "y_loss = e.history['loss']\n",
    "# plt.plot(x_len, y_vloss, marker='.', c='red', label=\"Validation-set Loss\")\n",
    "plt.plot(x_len, y_loss, marker='.', c='blue', label=\"Train-set Loss\")\n",
    "\n",
    "plt.legend(loc='upper right')\n",
    "plt.grid()\n",
    "plt.xlabel('epoch')\n",
    "plt.ylabel('loss')\n",
    "plt.show()"
   ]
  },
  {
   "cell_type": "code",
   "execution_count": null,
   "id": "ab6b956d",
   "metadata": {},
   "outputs": [],
   "source": [
    "# 추가 loss, accuracy 추출 (loss는 mse mae 등으로 평가 할 수 있게 코드 추가해도 좋음)"
   ]
  },
  {
   "cell_type": "code",
   "execution_count": null,
   "id": "c8a55758",
   "metadata": {},
   "outputs": [],
   "source": [
    "# LOSS ACCURACY MSE 등의 확인 가능"
   ]
  },
  {
   "cell_type": "code",
   "execution_count": null,
   "id": "d1e7f8b3",
   "metadata": {},
   "outputs": [],
   "source": [
    "# x_len = numpy.arange(len(y_loss))\n",
    "x_len = list(range(len(e.history['accuracy'])))\n",
    "y_loss = e.history['accuracy']\n",
    "# plt.plot(x_len, y_vloss, marker='.', c='red', label=\"Validation-set Loss\")\n",
    "plt.plot(x_len, y_loss, marker='.', c='red', label=\"Train-set Loss\")\n",
    "\n",
    "plt.legend(loc='upper right')\n",
    "plt.grid()\n",
    "plt.xlabel('epoch')\n",
    "plt.ylabel('accuracy')\n",
    "plt.show()"
   ]
  }
 ],
 "metadata": {
  "kernelspec": {
   "display_name": "Python 3 (ipykernel)",
   "language": "python",
   "name": "python3"
  },
  "language_info": {
   "codemirror_mode": {
    "name": "ipython",
    "version": 3
   },
   "file_extension": ".py",
   "mimetype": "text/x-python",
   "name": "python",
   "nbconvert_exporter": "python",
   "pygments_lexer": "ipython3",
   "version": "3.9.7"
  }
 },
 "nbformat": 4,
 "nbformat_minor": 5
}
